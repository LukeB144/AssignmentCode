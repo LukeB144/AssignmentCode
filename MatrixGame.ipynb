{
 "cells": [
  {
   "cell_type": "markdown",
   "id": "c63988f8-b893-4ee2-b7e7-f832d5f36a25",
   "metadata": {},
   "source": [
    "## Simulating the game with options of playing strategically or randomly."
   ]
  },
  {
   "cell_type": "code",
   "execution_count": 2,
   "id": "2c17f03a-daf8-421f-bdfb-5f585d5a3c6a",
   "metadata": {},
   "outputs": [
    {
     "data": {
      "application/vnd.jupyter.widget-view+json": {
       "model_id": "c86ccb2a2a314750acd5a7eeb59d5a51",
       "version_major": 2,
       "version_minor": 0
      },
      "text/plain": [
       "interactive(children=(IntSlider(value=4, description='Grid Size (n)', max=30, min=4), IntSlider(value=10, desc…"
      ]
     },
     "execution_count": 2,
     "metadata": {},
     "output_type": "execute_result"
    }
   ],
   "source": [
    "import numpy as np\n",
    "import matplotlib.pyplot as plt\n",
    "import ipywidgets as widgets\n",
    "from ipywidgets import interactive\n",
    "\n",
    "def game_simulation(n=4, sims=100, random=0, first=0):\n",
    "    p0_wins = 0  \n",
    "\n",
    "    for i in range(sims):\n",
    "        matrixarray = np.full(n * n, 2)  \n",
    "\n",
    "        if random == 0:\n",
    "            half = np.random.choice(n * n, (n * n) // 2, replace=False)\n",
    "            if first == 0:\n",
    "                matrixarray[half] = 1\n",
    "                matrixarray[matrixarray == 2] = 0\n",
    "            else:\n",
    "                matrixarray[half] = 0\n",
    "                matrixarray[matrixarray == 2] = 1\n",
    "        else:\n",
    "            ncounter = 0\n",
    "\n",
    "            if first == 0:\n",
    "                if n % 2 == 0:\n",
    "                    p0index = np.random.choice(np.where(matrixarray == 2)[0])\n",
    "                else:\n",
    "                    p0index = (n-1)//2\n",
    "                matrixarray[p0index] = 0\n",
    "                ncounter += 1\n",
    "\n",
    "            while ncounter < n * n:\n",
    "                p1index = np.random.choice(np.where(matrixarray == 2)[0])\n",
    "                matrixarray[p1index] = 1\n",
    "                ncounter += 1\n",
    "\n",
    "                if ncounter >= n * n:\n",
    "                    break\n",
    "\n",
    "                if n % 2 == 0:\n",
    "                    p0index = p1index - 2 * (p1index % n) + (n - 1)\n",
    "                else:\n",
    "                    mid = (n - 1) // 2\n",
    "                    if (p1index % n) == mid:\n",
    "                        for r in range(n):\n",
    "                            p0index = r * n + mid\n",
    "                            if matrixarray[p0index] == 2:\n",
    "                                break\n",
    "                    else:\n",
    "                        p0index = p1index - 2 * (p1index % n) + (n - 1)\n",
    "\n",
    "                if not (0 <= p0index < n * n and matrixarray[p0index] == 2):\n",
    "                    available_moves = np.where(matrixarray == 2)[0]\n",
    "                    valid_moves = [move for move in available_moves \n",
    "                                   if 0 <= (move - 2 * (move % n) + (n - 1)) < n * n \n",
    "                                   and matrixarray[move - 2 * (move % n) + (n - 1)] == 2]\n",
    "                    if valid_moves:\n",
    "                        p0index = np.random.choice(valid_moves)\n",
    "                \n",
    "                matrixarray[p0index] = 0\n",
    "                ncounter += 1\n",
    "\n",
    "        A = np.reshape(matrixarray, (n, n))\n",
    "        det = np.linalg.det(A)\n",
    "\n",
    "        if np.isclose(det, 0, atol=1e-8):\n",
    "            p0_wins += 1\n",
    "\n",
    "    win_ratio = p0_wins / sims\n",
    "    plt.figure(figsize=(5, 3))\n",
    "    plt.bar([\"Player 0 Wins\", \"Player 1 Wins\"], [win_ratio, 1 - win_ratio], color=[\"blue\", \"red\"])\n",
    "    plt.ylim(0, 1)\n",
    "    plt.ylabel(\"Proportion of Wins\")\n",
    "    plt.title(f\"n={n}, sims={sims}, Strategy={random}, First Player={first}\")\n",
    "    plt.show()\n",
    "\n",
    "    print(\"Sample matrix for n =\", n)\n",
    "    print(A)\n",
    "    print(\"Determinant:\", np.round(det))\n",
    "    _,zs = np.shape(np.where(matrixarray == 0))\n",
    "    print(\"Number of zeros:\",zs)\n",
    "\n",
    "interactive_plot = interactive(game_simulation, \n",
    "    n=widgets.IntSlider(min=4, max=30, step=1, value=4, description=\"Grid Size (n)\"),\n",
    "    sims=widgets.IntSlider(min=10, max=1000, step=10, value=10, description=\"Simulations\"),\n",
    "    random=widgets.ToggleButtons(options=[0, 1], value=1, description=\"Player 0 Strategy Off/On?\"),\n",
    "    first=widgets.ToggleButtons(options=[0, 1], value=0, description=\"First Player\"))\n",
    "\n",
    "interactive_plot"
   ]
  }
 ],
 "metadata": {
  "kernelspec": {
   "display_name": "Python 3 (ipykernel)",
   "language": "python",
   "name": "python3"
  },
  "language_info": {
   "codemirror_mode": {
    "name": "ipython",
    "version": 3
   },
   "file_extension": ".py",
   "mimetype": "text/x-python",
   "name": "python",
   "nbconvert_exporter": "python",
   "pygments_lexer": "ipython3",
   "version": "3.11.7"
  }
 },
 "nbformat": 4,
 "nbformat_minor": 5
}
